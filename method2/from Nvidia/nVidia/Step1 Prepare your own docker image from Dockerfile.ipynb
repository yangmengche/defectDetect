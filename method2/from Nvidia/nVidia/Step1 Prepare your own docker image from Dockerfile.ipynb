{
 "cells": [
  {
   "cell_type": "markdown",
   "metadata": {},
   "source": [
    "## Create jupyter notebook config file"
   ]
  },
  {
   "cell_type": "markdown",
   "metadata": {},
   "source": [
    "- __Common Jypyter configuration system__: The jupyter application have a common config system, and a common config directory. By default, this directory is `~/.jupyter`."
   ]
  },
  {
   "cell_type": "markdown",
   "metadata": {},
   "source": [
    "Let's edit the config file.\n",
    "- specify the id = '*'\n",
    "- specify the port to 8888\n",
    "- specify the password and token as ''"
   ]
  },
  {
   "cell_type": "code",
   "execution_count": 2,
   "metadata": {},
   "outputs": [],
   "source": [
    "%%bash\n",
    "# create config file for jupyter (file copied by Dockerfile)\n",
    "cat << LINES > jupyter_notebook_config.py\n",
    "c.NotebookApp.ip = '*'\n",
    "c.NotebookApp.port = 8888\n",
    "c.NotebookApp.token = ''\n",
    "c.NotebookApp.password = ''\n",
    "LINES"
   ]
  },
  {
   "cell_type": "code",
   "execution_count": 3,
   "metadata": {},
   "outputs": [
    {
     "name": "stdout",
     "output_type": "stream",
     "text": [
      "Dockerfile\r\n",
      "Step1 Prepare your own docker image from Dockerfile.ipynb\r\n",
      "Step2 Initial Setup - Jupyter Notebook 101.ipynb\r\n",
      "Step3 Industrial Defect Inspection with image segmentation - AI tech sharing.ipynb\r\n",
      "Step4 Predictive Maintenance with LSTM.ipynb\r\n",
      "coslib\r\n",
      "dataset\r\n",
      "jupyter_notebook_config.py\r\n",
      "readme.md\r\n",
      "userdata\r\n",
      "userdata.zip\r\n",
      "wget-log\r\n",
      "wget-log.1\r\n",
      "wget-log.2\r\n"
     ]
    }
   ],
   "source": [
    "!ls"
   ]
  },
  {
   "cell_type": "code",
   "execution_count": 18,
   "metadata": {},
   "outputs": [],
   "source": [
    "%%bash\n",
    "cat << LINES > Dockerfile\n",
    "# replace the base image name\n",
    "FROM nvcr.io/nvidia/tensorflow:17.12\n",
    "\n",
    "# install necessary packages\n",
    "RUN apt-get update && apt-get install -y \\\n",
    "        libzmq3-dev \\\n",
    "        python-dev \\\n",
    "        python-matplotlib \\\n",
    "        python-pandas \\\n",
    "        python-pip \\\n",
    "        python-sklearn && \\\n",
    "    rm -rf /var/lib/apt/lists/*\n",
    "\n",
    "# \n",
    "RUN pip install \\\n",
    "        ipykernel \\\n",
    "        jupyter && \\\n",
    "    python -m ipykernel.kernelspec\n",
    "\n",
    "COPY jupyter_notebook_config.py /root/.jupyter/\n",
    "\n",
    "\n",
    "WORKDIR /workspace\n",
    "VOLUME /workspace\n",
    "\n",
    "EXPOSE 8888\n",
    "\n",
    "CMD [\"jupyter\", \"notebook\", \"--allow-root\"]\n",
    "\n",
    "LINES"
   ]
  }
 ],
 "metadata": {
  "kernelspec": {
   "display_name": "Python 2",
   "language": "python",
   "name": "python2"
  },
  "language_info": {
   "codemirror_mode": {
    "name": "ipython",
    "version": 2
   },
   "file_extension": ".py",
   "mimetype": "text/x-python",
   "name": "python",
   "nbconvert_exporter": "python",
   "pygments_lexer": "ipython2",
   "version": "2.7.12"
  }
 },
 "nbformat": 4,
 "nbformat_minor": 2
}
